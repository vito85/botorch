{
 "cells": [
  {
   "attachments": {},
   "cell_type": "markdown",
   "metadata": {
    "originalKey": "2c421274-e807-4d93-8b0e-d23afdb49a2d",
    "showInput": false
   },
   "source": [
    "## Composite Bayesian Optimization with Multi-Task Gaussian Processes\n",
    "\n",
    "In this tutorial, we'll be describing how to perform multi-task Bayesian optimization over composite functions. In these types of problems, there are several related outputs, and an overall easy to evaluate objective function that we wish to maximize.\n",
    "\n",
    "**Multi-task Bayesian Optimization** was first proposed by [Swersky et al, NeurIPS, '13](https://papers.neurips.cc/paper/2013/hash/f33ba15effa5c10e873bf3842afb46a6-Abstract.html) in the context of fast hyper-parameter tuning for neural network models; however, we demonstrate a more advanced use-case of **[composite Bayesian optimization](https://proceedings.mlr.press/v97/astudillo19a.html)** where the overall function that we wish to optimize is a cheap-to-evaluate (and known) function of the outputs. In general, we expect that using more information about the function should yield improved performance when attempting to optimize it, particularly if the metric function itself is quickly varying.\n",
    "\n",
    "See [the composite BO tutorial w/ HOGP](https://github.com/pytorch/botorch/blob/main/tutorials/composite_bo_with_hogp.ipynb) for a more technical introduction. In general, we suggest using MTGPs for unstructured task outputs and the HOGP for matrix / tensor structured outputs.\n",
    "\n",
    "\n",
    "We will use a Multi-Task Gaussian process ([MTGP](https://papers.nips.cc/paper/2007/hash/66368270ffd51418ec58bd793f2d9b1b-Abstract.html)) with an ICM kernel to model all of the outputs in this problem. MTGPs can be easily accessed in Botorch via the `botorch.models.KroneckerMultiTaskGP` model class (for the \"block design\" case of fully observed outputs at all inputs). Given $T$ tasks (outputs) and $n$ data points, they assume that the responses, $Y \\sim \\mathbb{R}^{n \\times T},$ are distributed as $\\text{vec}(Y) \\sim \\mathcal{N}(f, D)$ and $f \\sim \\mathcal{GP}(\\mu_{\\theta}, K_{XX} \\otimes K_{T}),$ where $D$ is a (diagonal) noise term."
   ]
  },
  {
   "cell_type": "code",
   "execution_count": 1,
   "metadata": {
    "collapsed": false,
    "customOutput": null,
    "executionStartTime": 1678932909107,
    "executionStopTime": 1678932912073,
    "originalKey": "8871a990-f29b-45c2-b378-ac2befef0a1f",
    "requestMsgId": "e32e501e-2fe4-4b41-b1fd-4a3cf218833e"
   },
   "outputs": [
    {
     "name": "stderr",
     "output_type": "stream",
     "text": [
      "I0315 191509.128 _utils_internal.py:179] NCCL_DEBUG env var is set to None\n"
     ]
    },
    {
     "name": "stderr",
     "output_type": "stream",
     "text": [
      "I0315 191509.131 _utils_internal.py:188] NCCL_DEBUG is INFO from /etc/nccl.conf\n"
     ]
    }
   ],
   "source": [
    "import os\n",
    "import time\n",
    "\n",
    "import torch\n",
    "from botorch.acquisition.monte_carlo import qExpectedImprovement\n",
    "from botorch.acquisition.objective import GenericMCObjective\n",
    "from botorch.models import KroneckerMultiTaskGP, SingleTaskGP\n",
    "from botorch.optim import optimize_acqf\n",
    "from botorch.sampling.normal import IIDNormalSampler\n",
    "\n",
    "from botorch.test_functions import Hartmann\n",
    "from gpytorch.mlls import ExactMarginalLogLikelihood\n",
    "\n",
    "import warnings\n",
    "warnings.filterwarnings(\"ignore\")\n",
    "\n",
    "SMOKE_TEST = os.environ.get(\"SMOKE_TEST\")"
   ]
  },
  {
   "attachments": {},
   "cell_type": "markdown",
   "metadata": {
    "originalKey": "de394597-4088-4f32-94c7-7c611876eebc",
    "showInput": false
   },
   "source": [
    "### Set device, dtype and random seed"
   ]
  },
  {
   "cell_type": "code",
   "execution_count": 2,
   "metadata": {
    "collapsed": false,
    "customOutput": null,
    "executionStartTime": 1678932914757,
    "executionStopTime": 1678932914766,
    "originalKey": "015a9aab-e3a5-4d09-bd5d-209f9b41cbdb",
    "requestMsgId": "00e96c89-1a35-4c00-852c-1f5dda614d9a"
   },
   "outputs": [],
   "source": [
    "torch.random.manual_seed(10)\n",
    "\n",
    "tkwargs = {\n",
    "    \"dtype\": torch.double,\n",
    "    \"device\": torch.device(\"cuda:0\" if torch.cuda.is_available() else \"cpu\"),\n",
    "}"
   ]
  },
  {
   "attachments": {},
   "cell_type": "markdown",
   "metadata": {
    "originalKey": "f151402e-238e-4c5c-be43-55a73f07664e",
    "showInput": false
   },
   "source": [
    "### Problem Definition\n",
    "\n",
    "The function that we wish to optimize is based off of a contextual version of the Hartmann-6 test function, where following [Feng et al, NeurIPS, '20](https://proceedings.neurips.cc/paper/2020/hash/faff959d885ec0ecf70741a846c34d1d-Abstract.html) we convert the sixth task dimension into a task indicator. Here we assume that we evaluate all contexts at once."
   ]
  },
  {
   "cell_type": "code",
   "execution_count": 3,
   "metadata": {
    "collapsed": false,
    "customOutput": null,
    "executionStartTime": 1678932917176,
    "executionStopTime": 1678932917215,
    "originalKey": "48fabc12-b1ee-4b88-aa97-9ce4bfe83fd4",
    "requestMsgId": "0429d2a2-cc39-4838-9b87-f3eebd49e140"
   },
   "outputs": [],
   "source": [
    "from botorch.test_functions import Hartmann\n",
    "from torch import Tensor\n",
    "\n",
    "\n",
    "class ContextualHartmann6(Hartmann):\n",
    "    def __init__(self, num_tasks: int = 20, noise_std=None, negate=False):\n",
    "        super().__init__(dim=6, noise_std=noise_std, negate=negate)\n",
    "        self.task_range = torch.linspace(0, 1, num_tasks).unsqueeze(-1)\n",
    "        self._bounds = [(0.0, 1.0) for _ in range(self.dim - 1)]\n",
    "        self.bounds = torch.tensor(self._bounds).t()\n",
    "\n",
    "    def evaluate_true(self, X: Tensor) -> Tensor:\n",
    "        batch_X = X.unsqueeze(-2)\n",
    "        batch_dims = X.ndim - 1\n",
    "\n",
    "        expanded_task_range = self.task_range\n",
    "        for _ in range(batch_dims):\n",
    "            expanded_task_range = expanded_task_range.unsqueeze(0)\n",
    "        task_range = expanded_task_range.repeat(*X.shape[:-1], 1, 1).to(X)\n",
    "        concatenated_X = torch.cat(\n",
    "            (\n",
    "                batch_X.repeat(*[1] * batch_dims, self.task_range.shape[0], 1),\n",
    "                task_range,\n",
    "            ),\n",
    "            dim=-1,\n",
    "        )\n",
    "        return super().evaluate_true(concatenated_X)"
   ]
  },
  {
   "attachments": {},
   "cell_type": "markdown",
   "metadata": {
    "originalKey": "a2fbe3e8-98cf-49e0-9891-8d6009790955",
    "showInput": false
   },
   "source": [
    "We use `GenericMCObjective` to define the differentiable function that we are optimizing. Here, it is defined as \n",
    "$$g(f) = \\sum_{i=1}^T \\cos(f_i^2 + f_i w_i)$$\n",
    "where $w$ is a weight vector (drawn randomly once at the start of the optimization). As this function is a non-linear function of the outputs $f,$ we cannot compute acquisition functions via computation of the posterior mean and variance, but rather have to compute posterior samples and evaluate acquisitions with Monte Carlo sampling. \n",
    "\n",
    "For greater than $10$ or so tasks, it is computationally challenging to sample the posterior over all tasks jointly using conventional approaches, except that [Maddox et al, '21](https://arxiv.org/abs/2106.12997) have devised an efficient method for exploiting the structure in the posterior distribution of the MTGP, enabling efficient MC based optimization of objectives using MTGPs. In this tutorial, we choose 6  contexts/tasks for demostration. "
   ]
  },
  {
   "cell_type": "code",
   "execution_count": 4,
   "metadata": {
    "collapsed": false,
    "customOutput": null,
    "executionStartTime": 1678932920811,
    "executionStopTime": 1678932929399,
    "originalKey": "5938fb26-f773-4f68-a389-c0630e0687eb",
    "requestMsgId": "80cec36b-8b73-4c09-9511-f79f59df0af8"
   },
   "outputs": [],
   "source": [
    "num_tasks = 6\n",
    "problem = ContextualHartmann6(num_tasks= num_tasks, noise_std=0.001, negate=True).to(**tkwargs)\n",
    "\n",
    "# we choose num_tasks random weights\n",
    "weights = torch.randn(num_tasks, **tkwargs)\n",
    "\n",
    "\n",
    "def callable_func(samples, X=None):\n",
    "    res = -torch.cos((samples**2) + samples * weights)\n",
    "    return res.sum(dim=-1)\n",
    "\n",
    "\n",
    "objective = GenericMCObjective(callable_func)"
   ]
  },
  {
   "cell_type": "code",
   "execution_count": 5,
   "metadata": {
    "collapsed": false,
    "customOutput": null,
    "executionStartTime": 1678932929407,
    "executionStopTime": 1678932929411,
    "originalKey": "5a85661a-3668-4128-b5f4-8150dbcdce7d",
    "requestMsgId": "d1742d93-d229-4400-b3d9-55e5fee5eed6"
   },
   "outputs": [],
   "source": [
    "bounds = problem.bounds"
   ]
  },
  {
   "attachments": {},
   "cell_type": "markdown",
   "metadata": {
    "originalKey": "df727b70-30bb-458d-81cc-55dc6a5a3ef2",
    "showInput": false
   },
   "source": [
    "### Define helper functions\n",
    "\n",
    "Define helper functions used for optimizing the acquisition function and for constructing the batch expected improvement acquisition, which we optimize for both the batch GP and MTGP."
   ]
  },
  {
   "cell_type": "code",
   "execution_count": 6,
   "metadata": {
    "collapsed": false,
    "customOutput": null,
    "executionStartTime": 1678932929417,
    "executionStopTime": 1678932929421,
    "originalKey": "6975db14-12b3-481a-b854-0812ee8d9916",
    "requestMsgId": "886cc446-5045-430e-8390-1eab64c3113c"
   },
   "outputs": [],
   "source": [
    "def optimize_acqf_and_get_candidate(acq_func, bounds, batch_size):\n",
    "    \"\"\"Optimizes the acquisition function, and returns a new candidate and a noisy observation.\"\"\"\n",
    "    # optimize\n",
    "    candidates, _ = optimize_acqf(\n",
    "        acq_function=acq_func,\n",
    "        bounds=bounds,\n",
    "        q=batch_size,\n",
    "        num_restarts=10,\n",
    "        raw_samples=512,  # used for intialization heuristic\n",
    "        options={\"batch_limit\": 5, \"maxiter\": 200, \"init_batch_limit\": 5},\n",
    "    )\n",
    "    # observe new values\n",
    "    new_x = candidates.detach()\n",
    "    return new_x"
   ]
  },
  {
   "cell_type": "code",
   "execution_count": 7,
   "metadata": {
    "collapsed": false,
    "customOutput": null,
    "executionStartTime": 1678932929428,
    "executionStopTime": 1678932929431,
    "originalKey": "762b9e33-c2ac-40c2-90e9-7f6a31b92911",
    "requestMsgId": "e8db986c-2aa0-416f-a2b9-8ed1fe34984f"
   },
   "outputs": [],
   "source": [
    "def construct_acqf(model, objective, num_samples, best_f):\n",
    "    sampler = IIDNormalSampler(sample_shape=torch.Size([num_samples]))\n",
    "    qEI = qExpectedImprovement(\n",
    "        model=model,\n",
    "        best_f=best_f,\n",
    "        sampler=sampler,\n",
    "        objective=objective,\n",
    "    )\n",
    "    return qEI"
   ]
  },
  {
   "attachments": {},
   "cell_type": "markdown",
   "metadata": {
    "originalKey": "53414433-e097-4556-90e9-e99e35cdb390",
    "showInput": false
   },
   "source": [
    "Set environmental parameters, we use 20 initial data points and optimize for 20 steps with a batch size of 3 candidate points at each evaluation."
   ]
  },
  {
   "cell_type": "code",
   "execution_count": 8,
   "metadata": {
    "collapsed": false,
    "customOutput": null,
    "executionStartTime": 1678932929437,
    "executionStopTime": 1678932929440,
    "originalKey": "51f24269-b5de-4dd8-b2b4-18d269f3f3c2",
    "requestMsgId": "63c971a6-7e24-4b8a-8ec8-15d0ef21f6ff"
   },
   "outputs": [],
   "source": [
    "if SMOKE_TEST:\n",
    "    n_init = 5\n",
    "    n_steps = 1\n",
    "    batch_size = 2\n",
    "    num_samples = 4\n",
    "    n_trials = 2\n",
    "    verbose = False\n",
    "else:\n",
    "    n_init = 10\n",
    "    n_steps = 10\n",
    "    batch_size = 3\n",
    "    num_samples = 64\n",
    "    n_trials = 3\n",
    "    verbose = True"
   ]
  },
  {
   "attachments": {},
   "cell_type": "markdown",
   "metadata": {
    "originalKey": "eff2dc86-0797-40a7-962d-04e8c539c21a",
    "showInput": false
   },
   "source": [
    "## BO Loop\n",
    "\n",
    "Warning... this optimization loop can take a while, especially on the CPU. We compare to both random sampling and a batch GP fit in a composite manner on every output. The batch GP does not take into account any correlations between the different tasks."
   ]
  },
  {
   "cell_type": "code",
   "execution_count": 9,
   "metadata": {
    "collapsed": false,
    "customOutput": null,
    "executionStartTime": 1678932930875,
    "executionStopTime": 1678934072848,
    "originalKey": "de8d4079-6c17-4041-9ec4-9ebd09d46cd7",
    "requestMsgId": "34279809-d637-4ea5-99c2-aaa3957c37ba"
   },
   "outputs": [],
   "source": [
    "from botorch.optim.fit import fit_gpytorch_mll_torch\n",
    "from torch.optim.adam import Adam\n",
    "from functools import partial"
   ]
  },
  {
   "cell_type": "code",
   "execution_count": 10,
   "metadata": {
    "originalKey": "b567ab22-f3b4-41e3-aaae-75e6fe820cfc",
    "showInput": false
   },
   "outputs": [
    {
     "name": "stdout",
     "output_type": "stream",
     "text": [
      "\n",
      "Batch  0: best_value (random, mtgp, batch) = (-4.97, -3.40, -3.79), batch time = 1.91, mtgp time = 11.93\n",
      "Batch  1: best_value (random, mtgp, batch) = (-4.97, -3.40, -3.33), batch time = 3.35, mtgp time = 9.48\n",
      "Batch  2: best_value (random, mtgp, batch) = (-4.22, -3.37, -3.33), batch time = 3.05, mtgp time = 13.88\n",
      "Batch  3: best_value (random, mtgp, batch) = (-4.22, -3.37, -2.86), batch time = 2.40, mtgp time = 24.61\n",
      "Batch  4: best_value (random, mtgp, batch) = (-4.22, -3.36, -2.77), batch time = 3.23, mtgp time = 20.29\n",
      "Batch  5: best_value (random, mtgp, batch) = (-3.50, -3.36, -2.77), batch time = 3.20, mtgp time = 16.19\n",
      "Batch  6: best_value (random, mtgp, batch) = (-3.50, -0.96, -2.70), batch time = 3.47, mtgp time = 32.38\n",
      "Batch  7: best_value (random, mtgp, batch) = (-3.50, -0.88, -0.61), batch time = 3.24, mtgp time = 20.44\n",
      "Batch  8: best_value (random, mtgp, batch) = (-2.58, -0.88, 0.35), batch time = 2.72, mtgp time = 36.22\n",
      "Batch  9: best_value (random, mtgp, batch) = (-2.58, -0.88, 0.37), batch time = 1.61, mtgp time = 29.91\n",
      "Batch  0: best_value (random, mtgp, batch) = (-3.97, -3.97, -3.97), batch time = 3.23, mtgp time = 11.90\n",
      "Batch  1: best_value (random, mtgp, batch) = (-3.66, -3.97, -3.91), batch time = 2.69, mtgp time = 16.91\n",
      "Batch  2: best_value (random, mtgp, batch) = (-3.66, -3.84, -3.91), batch time = 3.38, mtgp time = 11.78\n",
      "Batch  3: best_value (random, mtgp, batch) = (-3.66, -0.43, -3.91), batch time = 3.30, mtgp time = 26.73\n",
      "Batch  4: best_value (random, mtgp, batch) = (-3.66, -0.43, -3.91), batch time = 4.08, mtgp time = 29.86\n",
      "Batch  5: best_value (random, mtgp, batch) = (-3.66, -0.43, -3.33), batch time = 3.60, mtgp time = 28.51\n",
      "Batch  6: best_value (random, mtgp, batch) = (-3.21, -0.43, -3.01), batch time = 3.50, mtgp time = 35.88\n",
      "Batch  7: best_value (random, mtgp, batch) = (-3.21, -0.43, -3.01), batch time = 3.35, mtgp time = 7.91\n",
      "Batch  8: best_value (random, mtgp, batch) = (-3.21, -0.02, -3.01), batch time = 3.39, mtgp time = 42.85\n",
      "Batch  9: best_value (random, mtgp, batch) = (-3.21, -0.02, -3.01), batch time = 3.95, mtgp time = 25.49\n",
      "Batch  0: best_value (random, mtgp, batch) = (-3.37, -2.27, -3.31), batch time = 3.28, mtgp time = 16.66\n",
      "Batch  1: best_value (random, mtgp, batch) = (-3.37, -1.91, -2.07), batch time = 3.00, mtgp time = 17.15\n",
      "Batch  2: best_value (random, mtgp, batch) = (-3.37, -1.91, -0.94), batch time = 2.79, mtgp time = 14.52\n",
      "Batch  3: best_value (random, mtgp, batch) = (-3.37, -0.91, -0.94), batch time = 3.46, mtgp time = 20.39\n",
      "Batch  4: best_value (random, mtgp, batch) = (-3.37, -0.35, -0.65), batch time = 3.25, mtgp time = 25.25\n",
      "Batch  5: best_value (random, mtgp, batch) = (-3.37, -0.35, 0.25), batch time = 2.39, mtgp time = 29.28\n",
      "Batch  6: best_value (random, mtgp, batch) = (-3.37, -0.18, 0.25), batch time = 2.51, mtgp time = 33.92\n",
      "Batch  7: best_value (random, mtgp, batch) = (-3.37, -0.05, 0.25), batch time = 1.19, mtgp time = 26.87\n",
      "Batch  8: best_value (random, mtgp, batch) = (-3.37, -0.05, 0.33), batch time = 2.18, mtgp time = 35.14\n",
      "Batch  9: best_value (random, mtgp, batch) = (-3.37, -0.05, 0.33), batch time = 1.51, mtgp time = 29.65"
     ]
    }
   ],
   "source": [
    "mtgp_trial_objectives = []\n",
    "batch_trial_objectives = []\n",
    "batch_trial_objectives_legacy = []\n",
    "\n",
    "rand_trial_objectives = []\n",
    "\n",
    "for trial in range(n_trials):\n",
    "    init_x = (bounds[1] - bounds[0]) * torch.rand(\n",
    "        n_init, bounds.shape[1], **tkwargs\n",
    "    ) + bounds[0]\n",
    "\n",
    "    init_y = problem(init_x)\n",
    "\n",
    "    mtgp_train_x, mtgp_train_y = init_x, init_y\n",
    "    batch_train_x, batch_train_y = init_x, init_y\n",
    "    rand_x, rand_y = init_x, init_y\n",
    "\n",
    "    best_value_mtgp = objective(init_y).max()\n",
    "    best_value_batch = best_value_mtgp\n",
    "    best_random = best_value_mtgp\n",
    "    \n",
    "    optimizer = partial(Adam, lr=0.01)\n",
    "\n",
    "    for iteration in range(n_steps):\n",
    "        # we empty the cache to clear memory out\n",
    "        torch.cuda.empty_cache()\n",
    "\n",
    "        # MTGP\n",
    "        mtgp_t0 = time.monotonic()\n",
    "        mtgp = KroneckerMultiTaskGP(\n",
    "            mtgp_train_x,\n",
    "            mtgp_train_y,\n",
    "        )\n",
    "        mtgp_mll = ExactMarginalLogLikelihood(mtgp.likelihood, mtgp)\n",
    "        fit_gpytorch_mll_torch(\n",
    "            mtgp_mll,\n",
    "            optimizer=optimizer,\n",
    "            step_limit=3000,\n",
    "        )\n",
    "\n",
    "        mtgp_acqf = construct_acqf(mtgp, objective, num_samples, best_value_mtgp)\n",
    "        new_mtgp_x = optimize_acqf_and_get_candidate(mtgp_acqf, bounds, batch_size)\n",
    "        mtgp_train_x = torch.cat((mtgp_train_x, new_mtgp_x), dim=0)\n",
    "        mtgp_train_y = torch.cat((mtgp_train_y, problem(new_mtgp_x)), dim=0)\n",
    "        best_value_mtgp = objective(mtgp_train_y).max()\n",
    "        mtgp_t1 = time.monotonic()\n",
    "\n",
    "        # Batch\n",
    "        batch_t0 = time.monotonic()\n",
    "        batchgp = SingleTaskGP(\n",
    "            batch_train_x,\n",
    "            batch_train_y,\n",
    "        )\n",
    "        batch_mll = ExactMarginalLogLikelihood(batchgp.likelihood, batchgp)\n",
    "        fit_gpytorch_mll_torch(\n",
    "            batch_mll,\n",
    "            optimizer=optimizer,\n",
    "            step_limit=3000,\n",
    "        )\n",
    "        batch_acqf = construct_acqf(batchgp, objective, num_samples, best_value_batch)\n",
    "        new_batch_x = optimize_acqf_and_get_candidate(batch_acqf, bounds, batch_size)\n",
    "        batch_train_x = torch.cat((batch_train_x, new_batch_x), dim=0)\n",
    "        batch_train_y = torch.cat((batch_train_y, problem(new_batch_x)), dim=0)\n",
    "        best_value_batch = objective(batch_train_y).max()\n",
    "        \n",
    "        batch_t1 = time.monotonic()\n",
    "\n",
    "        # rand\n",
    "        new_rand_x = (bounds[1] - bounds[0]) * torch.rand(\n",
    "            batch_size, bounds.shape[1], **tkwargs\n",
    "        ) + bounds[0]\n",
    "        rand_x = torch.cat((rand_x, new_rand_x))\n",
    "        rand_y = torch.cat((rand_y, problem(new_rand_x)))\n",
    "        best_random = objective(rand_y).max()\n",
    "\n",
    "        if verbose:\n",
    "            print(\n",
    "                f\"\\nBatch {iteration:>2}: best_value (random, mtgp, batch) = \"\n",
    "                f\"({best_random:>4.2f}, {best_value_mtgp:>4.2f}, {best_value_batch:>4.2f}), \"\n",
    "                f\"batch time = {batch_t1-batch_t0:>4.2f}, mtgp time = {mtgp_t1-mtgp_t0:>4.2f}\",\n",
    "                end=\"\",\n",
    "            )\n",
    "        else:\n",
    "            print(\".\", end=\"\")\n",
    "\n",
    "    mtgp_trial_objectives.append(objective(mtgp_train_y).detach().cpu())\n",
    "    batch_trial_objectives.append(objective(batch_train_y).detach().cpu())\n",
    "    rand_trial_objectives.append(objective(rand_y).detach().cpu())"
   ]
  },
  {
   "attachments": {},
   "cell_type": "markdown",
   "metadata": {
    "originalKey": "b567ab22-f3b4-41e3-aaae-75e6fe820cfc",
    "showInput": false
   },
   "source": [
    "### Plot Results"
   ]
  },
  {
   "cell_type": "code",
   "execution_count": 11,
   "metadata": {
    "collapsed": false,
    "customOutput": null,
    "executionStartTime": 1678934072894,
    "executionStopTime": 1678934073463,
    "originalKey": "8ec120a6-bc85-42cc-9c59-9963964a0da3",
    "requestMsgId": "b1f7777e-e686-4325-a0e0-d0c8578ec106"
   },
   "outputs": [],
   "source": [
    "import matplotlib.pyplot as plt"
   ]
  },
  {
   "attachments": {},
   "cell_type": "markdown",
   "metadata": {
    "originalKey": "3585efc5-bcb5-49f0-9fe1-e50d2deccfd2",
    "showInput": false
   },
   "source": [
    "Finally, we plot the results, where we see that the MTGP tends to outperform both the batch GP and the random baseline. The optimization procedure seems to have a good deal less noise than the batch GP.\n",
    "\n",
    "However, as demonstrated above, optimizing the acquisition function and fitting the MTGP tend to take a bit longer."
   ]
  },
  {
   "cell_type": "code",
   "execution_count": 12,
   "metadata": {
    "collapsed": false,
    "customOutput": null,
    "executionStartTime": 1678934073491,
    "executionStopTime": 1678934073506,
    "originalKey": "70c1d378-10d6-4293-ae08-ee311005f796",
    "requestMsgId": "ab0b8ca4-6f68-4026-a402-33be50c08063"
   },
   "outputs": [],
   "source": [
    "mtgp_results = torch.stack(mtgp_trial_objectives)[:, n_init:].cummax(1).values\n",
    "batch_results = torch.stack(batch_trial_objectives)[:, n_init:].cummax(1).values\n",
    "random_results = torch.stack(rand_trial_objectives)[:, n_init:].cummax(1).values"
   ]
  },
  {
   "cell_type": "code",
   "execution_count": 13,
   "metadata": {
    "collapsed": false,
    "customOutput": null,
    "executionStartTime": 1678934073511,
    "executionStopTime": 1678934074038,
    "originalKey": "cff9a0bb-8e81-4324-8da6-d2ca4d667446",
    "requestMsgId": "1094e900-749f-4225-9c50-93f626d29b73"
   },
   "outputs": [
    {
     "data": {
      "text/plain": [
       "Text(0, 0.5, 'Best Objective Achieved')"
      ]
     },
     "execution_count": 13,
     "metadata": {},
     "output_type": "execute_result"
    },
    {
     "data": {
      "image/png": "[encoded data removed]",
      "text/plain": [
       "<Figure size 640x480 with 1 Axes>"
      ]
     },
     "metadata": {},
     "output_type": "display_data"
    }
   ],
   "source": [
    "plt.plot(mtgp_results.mean(0))\n",
    "plt.fill_between(\n",
    "    torch.arange(n_steps * batch_size),\n",
    "    mtgp_results.mean(0) - 2.0 * mtgp_results.std(0) / (n_trials**0.5),\n",
    "    mtgp_results.mean(0) + 2.0 * mtgp_results.std(0) / (n_trials**0.5),\n",
    "    alpha=0.3,\n",
    "    label=\"MTGP\",\n",
    ")\n",
    "\n",
    "plt.plot(batch_results.mean(0))\n",
    "plt.fill_between(\n",
    "    torch.arange(n_steps * batch_size),\n",
    "    batch_results.mean(0) - 2.0 * batch_results.std(0) / (n_trials**0.5),\n",
    "    batch_results.mean(0) + 2.0 * batch_results.std(0) / (n_trials**0.5),\n",
    "    alpha=0.3,\n",
    "    label=\"Batch\",\n",
    ")\n",
    "\n",
    "plt.plot(random_results.mean(0))\n",
    "plt.fill_between(\n",
    "    torch.arange(n_steps * batch_size),\n",
    "    random_results.mean(0) - 2.0 * random_results.std(0) / (n_trials**0.5),\n",
    "    random_results.mean(0) + 2.0 * random_results.std(0) / (n_trials**0.5),\n",
    "    alpha=0.3,\n",
    "    label=\"Random\",\n",
    ")\n",
    "\n",
    "plt.legend(loc=\"lower right\", fontsize=15)\n",
    "plt.xlabel(\"Number of Function Queries\")\n",
    "plt.ylabel(\"Best Objective Achieved\")"
   ]
  },
  {
   "cell_type": "code",
   "execution_count": 14,
   "metadata": {
    "customInput": null,
    "originalKey": "a7b528a3-b353-4795-93aa-be6276d918f7",
    "showInput": true
   },
   "outputs": [
    {
     "data": {
      "image/png": "[encoded data removed]",
      "text/plain": [
       "<Figure size 640x480 with 1 Axes>"
      ]
     },
     "metadata": {},
     "output_type": "display_data"
    }
   ],
   "source": [
    "plt.plot(mtgp_results.mean(0))\n",
    "plt.fill_between(\n",
    "    torch.arange(n_steps * batch_size),\n",
    "    mtgp_results.mean(0) - 2.0 * mtgp_results.std(0) / (n_trials**0.5),\n",
    "    mtgp_results.mean(0) + 2.0 * mtgp_results.std(0) / (n_trials**0.5),\n",
    "    alpha=0.3,\n",
    "    label=\"MTGP\",\n",
    ")\n",
    "\n",
    "plt.plot(batch_results.mean(0))\n",
    "plt.fill_between(\n",
    "    torch.arange(n_steps * batch_size),\n",
    "    batch_results.mean(0) - 2.0 * batch_results.std(0) / (n_trials**0.5),\n",
    "    batch_results.mean(0) + 2.0 * batch_results.std(0) / (n_trials**0.5),\n",
    "    alpha=0.3,\n",
    "    label=\"Batch\",\n",
    ")\n",
    "\n",
    "plt.plot(random_results.mean(0))\n",
    "plt.fill_between(\n",
    "    torch.arange(n_steps * batch_size),\n",
    "    random_results.mean(0) - 2.0 * random_results.std(0) / (n_trials**0.5),\n",
    "    random_results.mean(0) + 2.0 * random_results.std(0) / (n_trials**0.5),\n",
    "    alpha=0.3,\n",
    "    label=\"Random\",\n",
    ")\n",
    "\n",
    "plt.legend(loc=\"lower right\", fontsize=15)\n",
    "plt.xlabel(\"Number of Function Queries\")\n",
    "plt.ylabel(\"Best Objective Achieved\")\n",
    "plt.show()"
   ]
  },
  {
   "cell_type": "code",
   "execution_count": null,
   "metadata": {
    "customInput": null,
    "originalKey": "a7b528a3-b353-4795-93aa-be6276d918f7",
    "showInput": true
   },
   "outputs": [],
   "source": []
  }
 ],
 "metadata": {
  "captumWidgetMessage": {},
  "dataExplorerConfig": {},
  "kernelspec": {
   "display_name": "Python 3 (ipykernel)",
   "language": "python",
   "name": "python3"
  },
  "language_info": {
   "codemirror_mode": {
    "name": "ipython",
    "version": 3
   },
   "file_extension": ".py",
   "mimetype": "text/x-python",
   "name": "python",
   "nbconvert_exporter": "python",
   "pygments_lexer": "ipython3",
   "version": "3.10.8"
  },
  "outputWidgetContext": {}
 },
 "nbformat": 4,
 "nbformat_minor": 2
}
